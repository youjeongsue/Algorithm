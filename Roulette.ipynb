{
 "cells": [
  {
   "cell_type": "code",
   "execution_count": 1,
   "metadata": {},
   "outputs": [],
   "source": [
    "import random"
   ]
  },
  {
   "cell_type": "markdown",
   "metadata": {},
   "source": [
    "1. 시네마 퐁당, 샤워런, 수영장 같은 한강 컨텐츠\n",
    "2. 모란투어\n",
    "3. 남한산성투어\n",
    "4. 옥수투어\n",
    "5. 한강, 서울숲\n",
    "6. 놀이동산\n",
    "7. 영화\n",
    "8. 만화방, 방탈출, 코노같은 실내데이트\n",
    "9. 예쁜카페\n",
    "10. 맛있는 밥\n",
    "11. 자전거, 롤러장 같은 엑티비티\n",
    "12. 카페에서 공부\n",
    "13. 태호방에서 뒹굴\n",
    "14. 영통 투어\n",
    "15. 핫플 투어\n",
    "16. 간단한술\n",
    "17. 과한술\n",
    "18. 전시회\n",
    "19. 맛집투어\n",
    "20. 고궁산책\n",
    "21. 기차나 버스 타고 멀리 갔다오기\n",
    "22. 여행가기\n",
    "23. 캠핑장가기\n",
    "24. 쇼핑하러가기\n",
    "25. 야경보러가기\n",
    "26. 커플뭐시기 맞추러가기\n",
    "27. 낮잠자기\n",
    "28. 찜질방가기\n",
    "29. 겨울에 바다보러가기\n",
    "30. 드라이브"
   ]
  },
  {
   "cell_type": "code",
   "execution_count": 2,
   "metadata": {},
   "outputs": [],
   "source": [
    "def Roulette():\n",
    "    result=[]\n",
    "    while(len(result)<3):\n",
    "        num=random.randrange(1,30)\n",
    "        if num not in result:\n",
    "            result.append(num)\n",
    "    return result"
   ]
  },
  {
   "cell_type": "code",
   "execution_count": 3,
   "metadata": {},
   "outputs": [
    {
     "data": {
      "text/plain": [
       "[8, 15, 7]"
      ]
     },
     "execution_count": 3,
     "metadata": {},
     "output_type": "execute_result"
    }
   ],
   "source": [
    "Roulette()"
   ]
  }
 ],
 "metadata": {
  "kernelspec": {
   "display_name": "Python 3",
   "language": "python",
   "name": "python3"
  },
  "language_info": {
   "codemirror_mode": {
    "name": "ipython",
    "version": 3
   },
   "file_extension": ".py",
   "mimetype": "text/x-python",
   "name": "python",
   "nbconvert_exporter": "python",
   "pygments_lexer": "ipython3",
   "version": "3.7.1"
  }
 },
 "nbformat": 4,
 "nbformat_minor": 2
}
